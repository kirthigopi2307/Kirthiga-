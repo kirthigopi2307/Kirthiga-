{
  "nbformat": 4,
  "nbformat_minor": 0,
  "metadata": {
    "colab": {
      "provenance": [],
      "authorship_tag": "ABX9TyPf4tbGW79FEWMyY/fpKNrR",
      "include_colab_link": true
    },
    "kernelspec": {
      "name": "ir",
      "display_name": "R"
    },
    "language_info": {
      "name": "R"
    }
  },
  "cells": [
    {
      "cell_type": "markdown",
      "metadata": {
        "id": "view-in-github",
        "colab_type": "text"
      },
      "source": [
        "<a href=\"https://colab.research.google.com/github/kirthigopi2307/Kirthiga-/blob/main/Untitled14.ipynb\" target=\"_parent\"><img src=\"https://colab.research.google.com/assets/colab-badge.svg\" alt=\"Open In Colab\"/></a>"
      ]
    },
    {
      "cell_type": "code",
      "execution_count": null,
      "metadata": {
        "colab": {
          "base_uri": "https://localhost:8080/"
        },
        "id": "XTR4ps0qYo0q",
        "outputId": "867435dd-76e9-4fe3-92f8-8b69f772ef48"
      },
      "outputs": [
        {
          "output_type": "stream",
          "name": "stdout",
          "text": [
            "[1] \"red\"    \"green\"  \"yellow\"\n",
            "[1] \"character\"\n"
          ]
        }
      ],
      "source": [
        "# Create a vector.\n",
        "apple <- c('red','green',\"yellow\")\n",
        "print(apple)\n",
        "# Get the class of the vector.\n",
        "print(class(apple))"
      ]
    },
    {
      "cell_type": "code",
      "source": [
        "# Create a list.\n",
        "list1 <- list(c(2,5,3),21.3,sin)\n",
        "# Print the list.\n",
        "print(list1)"
      ],
      "metadata": {
        "colab": {
          "base_uri": "https://localhost:8080/"
        },
        "id": "4UdUGzEiY8uK",
        "outputId": "c175ad8d-aee9-4555-e679-df185f6dd3d2"
      },
      "execution_count": null,
      "outputs": [
        {
          "output_type": "stream",
          "name": "stdout",
          "text": [
            "[[1]]\n",
            "[1] 2 5 3\n",
            "\n",
            "[[2]]\n",
            "[1] 21.3\n",
            "\n",
            "[[3]]\n",
            "function (x)  .Primitive(\"sin\")\n",
            "\n"
          ]
        }
      ]
    },
    {
      "cell_type": "code",
      "source": [
        "# Create a matrix.\n",
        "M = matrix( c('a','a','b','c','b','a'), nrow = 2, ncol = 3, byrow = TRUE)\n",
        "print(M)"
      ],
      "metadata": {
        "colab": {
          "base_uri": "https://localhost:8080/"
        },
        "id": "o1tNsZ_7ZGfA",
        "outputId": "249eb5de-4625-44be-ec5f-87e5c61318cd"
      },
      "execution_count": null,
      "outputs": [
        {
          "output_type": "stream",
          "name": "stdout",
          "text": [
            "     [,1] [,2] [,3]\n",
            "[1,] \"a\"  \"a\"  \"b\" \n",
            "[2,] \"c\"  \"b\"  \"a\" \n"
          ]
        }
      ]
    },
    {
      "cell_type": "code",
      "source": [
        "# Create an array.\n",
        "a <- array(c('green','yellow'),dim = c(3,3,2))\n",
        "print(a)"
      ],
      "metadata": {
        "colab": {
          "base_uri": "https://localhost:8080/"
        },
        "id": "17fjYSGkZTau",
        "outputId": "1c46ff28-473a-41a0-ce8d-3e928448cd9f"
      },
      "execution_count": null,
      "outputs": [
        {
          "output_type": "stream",
          "name": "stdout",
          "text": [
            ", , 1\n",
            "\n",
            "     [,1]     [,2]     [,3]    \n",
            "[1,] \"green\"  \"yellow\" \"green\" \n",
            "[2,] \"yellow\" \"green\"  \"yellow\"\n",
            "[3,] \"green\"  \"yellow\" \"green\" \n",
            "\n",
            ", , 2\n",
            "\n",
            "     [,1]     [,2]     [,3]    \n",
            "[1,] \"yellow\" \"green\"  \"yellow\"\n",
            "[2,] \"green\"  \"yellow\" \"green\" \n",
            "[3,] \"yellow\" \"green\"  \"yellow\"\n",
            "\n"
          ]
        }
      ]
    },
    {
      "cell_type": "code",
      "source": [
        "# Create a vector.\n",
        "apple_colors <- c('green','green','yellow','red','red','red','green')\n",
        "# Create a factor object.\n",
        "factor_apple <- factor(apple_colors)\n",
        "# Print the factor.\n",
        "print(factor_apple)\n",
        "print(nlevels(factor_apple))"
      ],
      "metadata": {
        "colab": {
          "base_uri": "https://localhost:8080/"
        },
        "id": "BKpJfHGSZYGu",
        "outputId": "86ced35e-b304-41db-a7cf-cb3a7d831459"
      },
      "execution_count": null,
      "outputs": [
        {
          "output_type": "stream",
          "name": "stdout",
          "text": [
            "[1] green  green  yellow red    red    red    green \n",
            "Levels: green red yellow\n",
            "[1] 3\n"
          ]
        }
      ]
    },
    {
      "cell_type": "code",
      "source": [
        "# Create the data frame.\n",
        "BMI <- data.frame(\n",
        "gender = c(\"Male\", \"Male\",\"Female\"),\n",
        "height = c(152, 171.5, 165),\n",
        "weight = c(81,93, 78),\n",
        "Age = c(42,38,26)\n",
        ")\n",
        "print(BMI)"
      ],
      "metadata": {
        "colab": {
          "base_uri": "https://localhost:8080/"
        },
        "id": "IEgZP1tjZc6v",
        "outputId": "960c8df4-e12e-45d4-e16d-4ccc6b190146"
      },
      "execution_count": null,
      "outputs": [
        {
          "output_type": "stream",
          "name": "stdout",
          "text": [
            "  gender height weight Age\n",
            "1   Male  152.0     81  42\n",
            "2   Male  171.5     93  38\n",
            "3 Female  165.0     78  26\n"
          ]
        }
      ]
    },
    {
      "cell_type": "code",
      "source": [
        "v <- c( 2,5.5,6)\n",
        "t <- c(8, 3, 4)\n",
        "print(v+t)"
      ],
      "metadata": {
        "colab": {
          "base_uri": "https://localhost:8080/"
        },
        "id": "qKY6dIBnZiwL",
        "outputId": "f383876a-7818-494f-8dc5-3b70d124482a"
      },
      "execution_count": null,
      "outputs": [
        {
          "output_type": "stream",
          "name": "stdout",
          "text": [
            "[1] 10.0  8.5 10.0\n"
          ]
        }
      ]
    },
    {
      "cell_type": "code",
      "source": [
        "v <- c( 2,5.5,6)\n",
        "t <- c(8, 3, 4)\n",
        "print(v-t)"
      ],
      "metadata": {
        "colab": {
          "base_uri": "https://localhost:8080/"
        },
        "id": "AZHYvZ4-aS_a",
        "outputId": "9d45adbf-93e9-4b57-dfa9-a34ed3be8e57"
      },
      "execution_count": null,
      "outputs": [
        {
          "output_type": "stream",
          "name": "stdout",
          "text": [
            "[1] -6.0  2.5  2.0\n"
          ]
        }
      ]
    },
    {
      "cell_type": "code",
      "source": [
        "v <- c( 2,5.5,6)\n",
        "t <- c(8, 3, 4)\n",
        "print(v*t)"
      ],
      "metadata": {
        "id": "45D4NIOLaXrE",
        "outputId": "152cc843-c9a0-4071-db15-e23d5caddcb2",
        "colab": {
          "base_uri": "https://localhost:8080/"
        }
      },
      "execution_count": null,
      "outputs": [
        {
          "output_type": "stream",
          "name": "stdout",
          "text": [
            "[1] 16.0 16.5 24.0\n"
          ]
        }
      ]
    },
    {
      "cell_type": "code",
      "source": [
        "v <- c( 2,5.5,6)\n",
        "t <- c(8, 3, 4)\n",
        "print(v/t)"
      ],
      "metadata": {
        "id": "vkVhEjl4aek5",
        "colab": {
          "base_uri": "https://localhost:8080/"
        },
        "outputId": "24464f5e-37ef-4039-bf27-b72bccde2818"
      },
      "execution_count": null,
      "outputs": [
        {
          "output_type": "stream",
          "name": "stdout",
          "text": [
            "[1] 0.250000 1.833333 1.500000\n"
          ]
        }
      ]
    },
    {
      "cell_type": "code",
      "source": [
        "v <- c( 2,5.5,6)\n",
        "t <- c(8, 3, 4)\n",
        "print(v%%t)"
      ],
      "metadata": {
        "colab": {
          "base_uri": "https://localhost:8080/"
        },
        "id": "7AuWNj0Ta4n7",
        "outputId": "06abd8bb-ab51-48f2-da4b-2a00fb7ba7ff"
      },
      "execution_count": null,
      "outputs": [
        {
          "output_type": "stream",
          "name": "stdout",
          "text": [
            "[1] 2.0 2.5 2.0\n"
          ]
        }
      ]
    },
    {
      "cell_type": "code",
      "source": [
        "v <- c( 2,5.5,6)\n",
        "t <- c(8, 3, 4)\n",
        "print(v%/%t)"
      ],
      "metadata": {
        "id": "ozHr2tfTbBy9",
        "outputId": "519f2b41-c227-40a5-f849-2ee855e6204a",
        "colab": {
          "base_uri": "https://localhost:8080/"
        }
      },
      "execution_count": null,
      "outputs": [
        {
          "output_type": "stream",
          "name": "stdout",
          "text": [
            "[1] 0 1 1\n"
          ]
        }
      ]
    },
    {
      "cell_type": "code",
      "source": [
        "v <- c( 2,5.5,6)\n",
        "t <- c(8, 3, 4)\n",
        "print(v^t)"
      ],
      "metadata": {
        "id": "zoyzTVdBbD9q",
        "outputId": "d1dd127d-7b7d-4702-c8e4-fda14d3f3cd8",
        "colab": {
          "base_uri": "https://localhost:8080/"
        }
      },
      "execution_count": null,
      "outputs": [
        {
          "output_type": "stream",
          "name": "stdout",
          "text": [
            "[1]  256.000  166.375 1296.000\n"
          ]
        }
      ]
    },
    {
      "cell_type": "code",
      "source": [
        "v <- c(2,5.5,6,9)\n",
        "t <- c(8,2.5,14,9)\n",
        "print(v>t)"
      ],
      "metadata": {
        "colab": {
          "base_uri": "https://localhost:8080/"
        },
        "id": "WimGGAhBmZR-",
        "outputId": "bb2dcfc2-27ba-453b-cc8b-6bee376c9b73"
      },
      "execution_count": null,
      "outputs": [
        {
          "output_type": "stream",
          "name": "stdout",
          "text": [
            "[1] FALSE  TRUE FALSE FALSE\n"
          ]
        }
      ]
    },
    {
      "cell_type": "code",
      "source": [
        "v <- c(2,5.5,6,9)\n",
        "t <- c(8,2.5,14,9)\n",
        "print(v < t)"
      ],
      "metadata": {
        "colab": {
          "base_uri": "https://localhost:8080/"
        },
        "id": "SdE-Hic5mgBb",
        "outputId": "d83c7db3-762c-444a-ae46-02aab46d9fa8"
      },
      "execution_count": null,
      "outputs": [
        {
          "output_type": "stream",
          "name": "stdout",
          "text": [
            "[1]  TRUE FALSE  TRUE FALSE\n"
          ]
        }
      ]
    },
    {
      "cell_type": "code",
      "source": [
        "v <- c(2,5.5,6,9)\n",
        "t <- c(8,2.5,14,9)\n",
        "print(v == t)"
      ],
      "metadata": {
        "colab": {
          "base_uri": "https://localhost:8080/"
        },
        "id": "vVbDBA0vmiK8",
        "outputId": "2c32482e-3e75-4729-e34b-269cfa67b4d4"
      },
      "execution_count": null,
      "outputs": [
        {
          "output_type": "stream",
          "name": "stdout",
          "text": [
            "[1] FALSE FALSE FALSE  TRUE\n"
          ]
        }
      ]
    },
    {
      "cell_type": "code",
      "source": [
        "v <- c(2,5.5,6,9)\n",
        "t <- c(8,2.5,14,9)\n",
        "print(v<=t)"
      ],
      "metadata": {
        "colab": {
          "base_uri": "https://localhost:8080/"
        },
        "id": "cl_8pMnNmkIN",
        "outputId": "4c6bf7f0-2044-4fa1-c06a-8724291026ff"
      },
      "execution_count": null,
      "outputs": [
        {
          "output_type": "stream",
          "name": "stdout",
          "text": [
            "[1]  TRUE FALSE  TRUE  TRUE\n"
          ]
        }
      ]
    },
    {
      "cell_type": "code",
      "source": [
        "v <- c(2,5.5,6,9)\n",
        "t <- c(8,2.5,14,9)\n",
        "print(v>=t)"
      ],
      "metadata": {
        "colab": {
          "base_uri": "https://localhost:8080/"
        },
        "id": "qZvmL-3omrHn",
        "outputId": "60340ce9-ee90-49ea-9b44-d1ca179af307"
      },
      "execution_count": null,
      "outputs": [
        {
          "output_type": "stream",
          "name": "stdout",
          "text": [
            "[1] FALSE  TRUE FALSE  TRUE\n"
          ]
        }
      ]
    },
    {
      "cell_type": "code",
      "source": [
        "v <- c(3,1,TRUE,2+3i)\n",
        "t <- c(4,1,FALSE,2+3i)\n",
        "print(v&t)"
      ],
      "metadata": {
        "colab": {
          "base_uri": "https://localhost:8080/"
        },
        "id": "-1jOgxCynP3G",
        "outputId": "10f18507-b4b9-42b2-a971-c7f713a15376"
      },
      "execution_count": null,
      "outputs": [
        {
          "output_type": "stream",
          "name": "stdout",
          "text": [
            "[1]  TRUE  TRUE FALSE  TRUE\n"
          ]
        }
      ]
    },
    {
      "cell_type": "code",
      "source": [
        "v <- c(2,5.5,6,9)\n",
        "t <- c(8,2.5,14,9)\n",
        "print(v!=t)"
      ],
      "metadata": {
        "colab": {
          "base_uri": "https://localhost:8080/"
        },
        "id": "PPYuNPS8m04D",
        "outputId": "961ef9f5-bc92-45b3-bf3a-f8262c2459da"
      },
      "execution_count": null,
      "outputs": [
        {
          "output_type": "stream",
          "name": "stdout",
          "text": [
            "[1]  TRUE  TRUE  TRUE FALSE\n"
          ]
        }
      ]
    },
    {
      "cell_type": "code",
      "source": [
        "v <- c(3,0,TRUE,2+2i)\n",
        "t <- c(4,0,FALSE,2+3i)\n",
        "print(v|t)"
      ],
      "metadata": {
        "colab": {
          "base_uri": "https://localhost:8080/"
        },
        "id": "GLxEFNzMnxb3",
        "outputId": "21d1768e-9f80-4d92-9f63-15e3f2ff4747"
      },
      "execution_count": null,
      "outputs": [
        {
          "output_type": "stream",
          "name": "stdout",
          "text": [
            "[1]  TRUE FALSE  TRUE  TRUE\n"
          ]
        }
      ]
    },
    {
      "cell_type": "code",
      "source": [
        "v1 <- c(3,1,TRUE,2+3i)\n",
        "v2 <<- c(3,1,TRUE,2+3i)\n",
        "v3 = c(3,1,TRUE,2+3i)\n",
        "print(v1)\n",
        "print(v2)\n",
        "print(v3)"
      ],
      "metadata": {
        "colab": {
          "base_uri": "https://localhost:8080/"
        },
        "id": "tCQesku9-ITA",
        "outputId": "8c7490bc-a1ef-4dee-c489-29a57eeedbf3"
      },
      "execution_count": 1,
      "outputs": [
        {
          "output_type": "stream",
          "name": "stdout",
          "text": [
            "[1] 3+0i 1+0i 1+0i 2+3i\n",
            "[1] 3+0i 1+0i 1+0i 2+3i\n",
            "[1] 3+0i 1+0i 1+0i 2+3i\n"
          ]
        }
      ]
    },
    {
      "cell_type": "code",
      "source": [
        "c(3,1,TRUE,2+3i) -> v1\n",
        "c(3,1,TRUE,2+3i) ->> v2\n",
        "print(v1)\n",
        "print(v2)"
      ],
      "metadata": {
        "colab": {
          "base_uri": "https://localhost:8080/"
        },
        "id": "mSgkBSIy-8CQ",
        "outputId": "fb4c0754-0130-4015-90a4-28c154aa1bc3"
      },
      "execution_count": 2,
      "outputs": [
        {
          "output_type": "stream",
          "name": "stdout",
          "text": [
            "[1] 3+0i 1+0i 1+0i 2+3i\n",
            "[1] 3+0i 1+0i 1+0i 2+3i\n"
          ]
        }
      ]
    },
    {
      "cell_type": "code",
      "source": [
        "v <- 2:8\n",
        "print(v)"
      ],
      "metadata": {
        "colab": {
          "base_uri": "https://localhost:8080/"
        },
        "id": "64ktmONR_A0B",
        "outputId": "98b5ccd4-0f7d-4541-90d1-b16ce568ca34"
      },
      "execution_count": 3,
      "outputs": [
        {
          "output_type": "stream",
          "name": "stdout",
          "text": [
            "[1] 2 3 4 5 6 7 8\n"
          ]
        }
      ]
    },
    {
      "cell_type": "code",
      "source": [
        "v1 <- 8\n",
        "v2 <- 12\n",
        "t <- 1:10\n",
        "print(v1 %in% t)\n",
        "print(v2 %in% t)"
      ],
      "metadata": {
        "colab": {
          "base_uri": "https://localhost:8080/"
        },
        "id": "5VBA12nI_C9V",
        "outputId": "2fe52c05-1ded-4dfc-a06d-698cc24bc3fd"
      },
      "execution_count": 4,
      "outputs": [
        {
          "output_type": "stream",
          "name": "stdout",
          "text": [
            "[1] TRUE\n",
            "[1] FALSE\n"
          ]
        }
      ]
    },
    {
      "cell_type": "code",
      "source": [
        "M = matrix( c(2,6,5,1,10,4),\n",
        "nrow = 2,ncol = 3,byrow =\n",
        "TRUE)\n",
        "t = M %*% t(M)\n",
        "print(t)"
      ],
      "metadata": {
        "colab": {
          "base_uri": "https://localhost:8080/"
        },
        "id": "VaxSlIQv_E_1",
        "outputId": "21ae091d-8d5b-4db7-b00d-ba6ac432f5dc"
      },
      "execution_count": 5,
      "outputs": [
        {
          "output_type": "stream",
          "name": "stdout",
          "text": [
            "     [,1] [,2]\n",
            "[1,]   65   82\n",
            "[2,]   82  117\n"
          ]
        }
      ]
    },
    {
      "cell_type": "code",
      "source": [
        "v <- LETTERS[1:4]\n",
        "i <- 0\n",
        "repeat {\n",
        " print(v[i])\n",
        " i<- i+1\n",
        " if(i> 4) {\n",
        "break\n",
        " }\n",
        "}"
      ],
      "metadata": {
        "colab": {
          "base_uri": "https://localhost:8080/"
        },
        "id": "4ZIME2BY_eNK",
        "outputId": "b6a52b7a-dcf7-4ac2-c4ea-4bd6b14976b7"
      },
      "execution_count": 6,
      "outputs": [
        {
          "output_type": "stream",
          "name": "stdout",
          "text": [
            "character(0)\n",
            "[1] \"A\"\n",
            "[1] \"B\"\n",
            "[1] \"C\"\n",
            "[1] \"D\"\n"
          ]
        }
      ]
    },
    {
      "cell_type": "code",
      "source": [
        "list1 <- list(a = 1:3, b = \"hello\", c = TRUE)\n",
        "for (item in list1) {\n",
        " print(item)\n",
        "}"
      ],
      "metadata": {
        "colab": {
          "base_uri": "https://localhost:8080/"
        },
        "id": "oU47pLgr_3CH",
        "outputId": "6f38e566-4dc6-45c6-c0b4-0a3510fcc27c"
      },
      "execution_count": 7,
      "outputs": [
        {
          "output_type": "stream",
          "name": "stdout",
          "text": [
            "[1] 1 2 3\n",
            "[1] \"hello\"\n",
            "[1] TRUE\n"
          ]
        }
      ]
    },
    {
      "cell_type": "code",
      "source": [
        "# Elements are arranged sequentially by row.\n",
        "M <- matrix(c(3:14), nrow = 4, byrow = TRUE)\n",
        "print(M)"
      ],
      "metadata": {
        "colab": {
          "base_uri": "https://localhost:8080/"
        },
        "id": "Tn03S2YW_60b",
        "outputId": "35ba692a-89e0-430d-f229-74b6b5576a26"
      },
      "execution_count": 8,
      "outputs": [
        {
          "output_type": "stream",
          "name": "stdout",
          "text": [
            "     [,1] [,2] [,3]\n",
            "[1,]    3    4    5\n",
            "[2,]    6    7    8\n",
            "[3,]    9   10   11\n",
            "[4,]   12   13   14\n"
          ]
        }
      ]
    },
    {
      "cell_type": "code",
      "source": [
        "# Elements are arranged sequentially by column.\n",
        "N <- matrix(c(3:14), nrow = 4, byrow = FALSE)\n",
        "print(N)"
      ],
      "metadata": {
        "colab": {
          "base_uri": "https://localhost:8080/"
        },
        "id": "Fucru5PpB04z",
        "outputId": "6618df37-d0e5-4778-e02d-56655e3f454b"
      },
      "execution_count": 9,
      "outputs": [
        {
          "output_type": "stream",
          "name": "stdout",
          "text": [
            "     [,1] [,2] [,3]\n",
            "[1,]    3    7   11\n",
            "[2,]    4    8   12\n",
            "[3,]    5    9   13\n",
            "[4,]    6   10   14\n"
          ]
        }
      ]
    },
    {
      "cell_type": "code",
      "source": [
        "# Define the column and row names.\n",
        "rownames = c(\"row1\", \"row2\", \"row3\", \"row4\")\n",
        "colnames = c(\"col1\", \"col2\", \"col3\")\n",
        "P <- matrix(c(3:14), nrow = 4, byrow = TRUE, dimnames = list(rownames, colnames))\n",
        "print(P)"
      ],
      "metadata": {
        "colab": {
          "base_uri": "https://localhost:8080/"
        },
        "id": "K1jUculgCASt",
        "outputId": "247e4985-a0e4-427d-e3f4-ef0605099cd5"
      },
      "execution_count": 10,
      "outputs": [
        {
          "output_type": "stream",
          "name": "stdout",
          "text": [
            "     col1 col2 col3\n",
            "row1    3    4    5\n",
            "row2    6    7    8\n",
            "row3    9   10   11\n",
            "row4   12   13   14\n"
          ]
        }
      ]
    }
  ]
}