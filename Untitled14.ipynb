{
  "nbformat": 4,
  "nbformat_minor": 0,
  "metadata": {
    "colab": {
      "provenance": [],
      "authorship_tag": "ABX9TyMKxRHB3ztXFSZPF7awm0d+",
      "include_colab_link": true
    },
    "kernelspec": {
      "name": "ir",
      "display_name": "R"
    },
    "language_info": {
      "name": "R"
    }
  },
  "cells": [
    {
      "cell_type": "markdown",
      "metadata": {
        "id": "view-in-github",
        "colab_type": "text"
      },
      "source": [
        "<a href=\"https://colab.research.google.com/github/kirthigopi2307/Kirthiga-/blob/main/Untitled14.ipynb\" target=\"_parent\"><img src=\"https://colab.research.google.com/assets/colab-badge.svg\" alt=\"Open In Colab\"/></a>"
      ]
    },
    {
      "cell_type": "code",
      "execution_count": null,
      "metadata": {
        "colab": {
          "base_uri": "https://localhost:8080/"
        },
        "id": "XTR4ps0qYo0q",
        "outputId": "867435dd-76e9-4fe3-92f8-8b69f772ef48"
      },
      "outputs": [
        {
          "output_type": "stream",
          "name": "stdout",
          "text": [
            "[1] \"red\"    \"green\"  \"yellow\"\n",
            "[1] \"character\"\n"
          ]
        }
      ],
      "source": [
        "# Create a vector.\n",
        "apple <- c('red','green',\"yellow\")\n",
        "print(apple)\n",
        "# Get the class of the vector.\n",
        "print(class(apple))"
      ]
    },
    {
      "cell_type": "code",
      "source": [
        "# Create a list.\n",
        "list1 <- list(c(2,5,3),21.3,sin)\n",
        "# Print the list.\n",
        "print(list1)"
      ],
      "metadata": {
        "colab": {
          "base_uri": "https://localhost:8080/"
        },
        "id": "4UdUGzEiY8uK",
        "outputId": "c175ad8d-aee9-4555-e679-df185f6dd3d2"
      },
      "execution_count": null,
      "outputs": [
        {
          "output_type": "stream",
          "name": "stdout",
          "text": [
            "[[1]]\n",
            "[1] 2 5 3\n",
            "\n",
            "[[2]]\n",
            "[1] 21.3\n",
            "\n",
            "[[3]]\n",
            "function (x)  .Primitive(\"sin\")\n",
            "\n"
          ]
        }
      ]
    },
    {
      "cell_type": "code",
      "source": [
        "# Create a matrix.\n",
        "M = matrix( c('a','a','b','c','b','a'), nrow = 2, ncol = 3, byrow = TRUE)\n",
        "print(M)"
      ],
      "metadata": {
        "colab": {
          "base_uri": "https://localhost:8080/"
        },
        "id": "o1tNsZ_7ZGfA",
        "outputId": "249eb5de-4625-44be-ec5f-87e5c61318cd"
      },
      "execution_count": null,
      "outputs": [
        {
          "output_type": "stream",
          "name": "stdout",
          "text": [
            "     [,1] [,2] [,3]\n",
            "[1,] \"a\"  \"a\"  \"b\" \n",
            "[2,] \"c\"  \"b\"  \"a\" \n"
          ]
        }
      ]
    },
    {
      "cell_type": "code",
      "source": [
        "# Create an array.\n",
        "a <- array(c('green','yellow'),dim = c(3,3,2))\n",
        "print(a)"
      ],
      "metadata": {
        "colab": {
          "base_uri": "https://localhost:8080/"
        },
        "id": "17fjYSGkZTau",
        "outputId": "1c46ff28-473a-41a0-ce8d-3e928448cd9f"
      },
      "execution_count": null,
      "outputs": [
        {
          "output_type": "stream",
          "name": "stdout",
          "text": [
            ", , 1\n",
            "\n",
            "     [,1]     [,2]     [,3]    \n",
            "[1,] \"green\"  \"yellow\" \"green\" \n",
            "[2,] \"yellow\" \"green\"  \"yellow\"\n",
            "[3,] \"green\"  \"yellow\" \"green\" \n",
            "\n",
            ", , 2\n",
            "\n",
            "     [,1]     [,2]     [,3]    \n",
            "[1,] \"yellow\" \"green\"  \"yellow\"\n",
            "[2,] \"green\"  \"yellow\" \"green\" \n",
            "[3,] \"yellow\" \"green\"  \"yellow\"\n",
            "\n"
          ]
        }
      ]
    },
    {
      "cell_type": "code",
      "source": [
        "# Create a vector.\n",
        "apple_colors <- c('green','green','yellow','red','red','red','green')\n",
        "# Create a factor object.\n",
        "factor_apple <- factor(apple_colors)\n",
        "# Print the factor.\n",
        "print(factor_apple)\n",
        "print(nlevels(factor_apple))"
      ],
      "metadata": {
        "colab": {
          "base_uri": "https://localhost:8080/"
        },
        "id": "BKpJfHGSZYGu",
        "outputId": "86ced35e-b304-41db-a7cf-cb3a7d831459"
      },
      "execution_count": null,
      "outputs": [
        {
          "output_type": "stream",
          "name": "stdout",
          "text": [
            "[1] green  green  yellow red    red    red    green \n",
            "Levels: green red yellow\n",
            "[1] 3\n"
          ]
        }
      ]
    },
    {
      "cell_type": "code",
      "source": [
        "# Create the data frame.\n",
        "BMI <- data.frame(\n",
        "gender = c(\"Male\", \"Male\",\"Female\"),\n",
        "height = c(152, 171.5, 165),\n",
        "weight = c(81,93, 78),\n",
        "Age = c(42,38,26)\n",
        ")\n",
        "print(BMI)"
      ],
      "metadata": {
        "colab": {
          "base_uri": "https://localhost:8080/"
        },
        "id": "IEgZP1tjZc6v",
        "outputId": "960c8df4-e12e-45d4-e16d-4ccc6b190146"
      },
      "execution_count": null,
      "outputs": [
        {
          "output_type": "stream",
          "name": "stdout",
          "text": [
            "  gender height weight Age\n",
            "1   Male  152.0     81  42\n",
            "2   Male  171.5     93  38\n",
            "3 Female  165.0     78  26\n"
          ]
        }
      ]
    },
    {
      "cell_type": "code",
      "source": [
        "v <- c( 2,5.5,6)\n",
        "t <- c(8, 3, 4)\n",
        "print(v+t)"
      ],
      "metadata": {
        "colab": {
          "base_uri": "https://localhost:8080/"
        },
        "id": "qKY6dIBnZiwL",
        "outputId": "f383876a-7818-494f-8dc5-3b70d124482a"
      },
      "execution_count": null,
      "outputs": [
        {
          "output_type": "stream",
          "name": "stdout",
          "text": [
            "[1] 10.0  8.5 10.0\n"
          ]
        }
      ]
    },
    {
      "cell_type": "code",
      "source": [
        "v <- c( 2,5.5,6)\n",
        "t <- c(8, 3, 4)\n",
        "print(v-t)"
      ],
      "metadata": {
        "colab": {
          "base_uri": "https://localhost:8080/"
        },
        "id": "AZHYvZ4-aS_a",
        "outputId": "9d45adbf-93e9-4b57-dfa9-a34ed3be8e57"
      },
      "execution_count": null,
      "outputs": [
        {
          "output_type": "stream",
          "name": "stdout",
          "text": [
            "[1] -6.0  2.5  2.0\n"
          ]
        }
      ]
    },
    {
      "cell_type": "code",
      "source": [
        "v <- c( 2,5.5,6)\n",
        "t <- c(8, 3, 4)\n",
        "print(v*t)"
      ],
      "metadata": {
        "id": "45D4NIOLaXrE",
        "outputId": "152cc843-c9a0-4071-db15-e23d5caddcb2",
        "colab": {
          "base_uri": "https://localhost:8080/"
        }
      },
      "execution_count": null,
      "outputs": [
        {
          "output_type": "stream",
          "name": "stdout",
          "text": [
            "[1] 16.0 16.5 24.0\n"
          ]
        }
      ]
    },
    {
      "cell_type": "code",
      "source": [
        "v <- c( 2,5.5,6)\n",
        "t <- c(8, 3, 4)\n",
        "print(v/t)"
      ],
      "metadata": {
        "id": "vkVhEjl4aek5",
        "colab": {
          "base_uri": "https://localhost:8080/"
        },
        "outputId": "24464f5e-37ef-4039-bf27-b72bccde2818"
      },
      "execution_count": null,
      "outputs": [
        {
          "output_type": "stream",
          "name": "stdout",
          "text": [
            "[1] 0.250000 1.833333 1.500000\n"
          ]
        }
      ]
    },
    {
      "cell_type": "code",
      "source": [
        "v <- c( 2,5.5,6)\n",
        "t <- c(8, 3, 4)\n",
        "print(v%%t)"
      ],
      "metadata": {
        "colab": {
          "base_uri": "https://localhost:8080/"
        },
        "id": "7AuWNj0Ta4n7",
        "outputId": "06abd8bb-ab51-48f2-da4b-2a00fb7ba7ff"
      },
      "execution_count": null,
      "outputs": [
        {
          "output_type": "stream",
          "name": "stdout",
          "text": [
            "[1] 2.0 2.5 2.0\n"
          ]
        }
      ]
    },
    {
      "cell_type": "code",
      "source": [
        "v <- c( 2,5.5,6)\n",
        "t <- c(8, 3, 4)\n",
        "print(v%/%t)"
      ],
      "metadata": {
        "id": "ozHr2tfTbBy9",
        "outputId": "519f2b41-c227-40a5-f849-2ee855e6204a",
        "colab": {
          "base_uri": "https://localhost:8080/"
        }
      },
      "execution_count": null,
      "outputs": [
        {
          "output_type": "stream",
          "name": "stdout",
          "text": [
            "[1] 0 1 1\n"
          ]
        }
      ]
    },
    {
      "cell_type": "code",
      "source": [
        "v <- c( 2,5.5,6)\n",
        "t <- c(8, 3, 4)\n",
        "print(v^t)"
      ],
      "metadata": {
        "id": "zoyzTVdBbD9q",
        "outputId": "d1dd127d-7b7d-4702-c8e4-fda14d3f3cd8",
        "colab": {
          "base_uri": "https://localhost:8080/"
        }
      },
      "execution_count": null,
      "outputs": [
        {
          "output_type": "stream",
          "name": "stdout",
          "text": [
            "[1]  256.000  166.375 1296.000\n"
          ]
        }
      ]
    }
  ]
}